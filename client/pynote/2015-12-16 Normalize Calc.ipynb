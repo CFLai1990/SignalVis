{
 "metadata": {
  "name": "",
  "signature": "sha256:a99faaee2474abb16069e51f53bc52e196efcdbaa6f56c2087d51a2bb74685c1"
 },
 "nbformat": 3,
 "nbformat_minor": 0,
 "worksheets": [
  {
   "cells": [
    {
     "cell_type": "code",
     "collapsed": false,
     "input": [
      "import pandas as pd\n",
      "import numpy as np\n",
      "import datetime\n",
      "import matplotlib.pyplot as plt\n",
      "import json\n",
      "import scipy\n",
      "import sklearn\n",
      "%matplotlib inline"
     ],
     "language": "python",
     "metadata": {},
     "outputs": [],
     "prompt_number": 11
    },
    {
     "cell_type": "code",
     "collapsed": false,
     "input": [
      "%%time\n",
      "df = pd.read_csv('../data/950M-formated.csv')"
     ],
     "language": "python",
     "metadata": {},
     "outputs": [
      {
       "output_type": "stream",
       "stream": "stdout",
       "text": [
        "CPU times: user 136 ms, sys: 24.7 ms, total: 160 ms\n",
        "Wall time: 172 ms\n"
       ]
      }
     ],
     "prompt_number": 2
    },
    {
     "cell_type": "code",
     "collapsed": false,
     "input": [
      "df.head()"
     ],
     "language": "python",
     "metadata": {},
     "outputs": [
      {
       "html": [
        "<div style=\"max-height:1000px;max-width:1500px;overflow:auto;\">\n",
        "<table border=\"1\" class=\"dataframe\">\n",
        "  <thead>\n",
        "    <tr style=\"text-align: right;\">\n",
        "      <th></th>\n",
        "      <th>Midfrequency</th>\n",
        "      <th>Bandwidth</th>\n",
        "      <th>Scope</th>\n",
        "      <th>Carriernoise</th>\n",
        "      <th>Firsttime</th>\n",
        "    </tr>\n",
        "  </thead>\n",
        "  <tbody>\n",
        "    <tr>\n",
        "      <th>0</th>\n",
        "      <td> 935.413</td>\n",
        "      <td> 212.362</td>\n",
        "      <td>-58</td>\n",
        "      <td> 36</td>\n",
        "      <td> 1440518935654</td>\n",
        "    </tr>\n",
        "    <tr>\n",
        "      <th>1</th>\n",
        "      <td> 938.401</td>\n",
        "      <td> 443.568</td>\n",
        "      <td>-65</td>\n",
        "      <td> 18</td>\n",
        "      <td> 1440518935654</td>\n",
        "    </tr>\n",
        "    <tr>\n",
        "      <th>2</th>\n",
        "      <td> 939.205</td>\n",
        "      <td> 200.765</td>\n",
        "      <td>-70</td>\n",
        "      <td> 17</td>\n",
        "      <td> 1440518935654</td>\n",
        "    </tr>\n",
        "    <tr>\n",
        "      <th>3</th>\n",
        "      <td> 945.498</td>\n",
        "      <td> 413.851</td>\n",
        "      <td>-62</td>\n",
        "      <td> 23</td>\n",
        "      <td> 1440518935654</td>\n",
        "    </tr>\n",
        "    <tr>\n",
        "      <th>4</th>\n",
        "      <td> 951.696</td>\n",
        "      <td> 344.997</td>\n",
        "      <td>-67</td>\n",
        "      <td> 16</td>\n",
        "      <td> 1440518935654</td>\n",
        "    </tr>\n",
        "  </tbody>\n",
        "</table>\n",
        "</div>"
       ],
       "metadata": {},
       "output_type": "pyout",
       "prompt_number": 3,
       "text": [
        "   Midfrequency  Bandwidth  Scope  Carriernoise      Firsttime\n",
        "0       935.413    212.362    -58            36  1440518935654\n",
        "1       938.401    443.568    -65            18  1440518935654\n",
        "2       939.205    200.765    -70            17  1440518935654\n",
        "3       945.498    413.851    -62            23  1440518935654\n",
        "4       951.696    344.997    -67            16  1440518935654"
       ]
      }
     ],
     "prompt_number": 3
    },
    {
     "cell_type": "code",
     "collapsed": false,
     "input": [
      "df.columns.values"
     ],
     "language": "python",
     "metadata": {},
     "outputs": [
      {
       "metadata": {},
       "output_type": "pyout",
       "prompt_number": 21,
       "text": [
        "array(['Midfrequency', 'Bandwidth', 'Scope', 'Carriernoise', 'Firsttime'], dtype=object)"
       ]
      }
     ],
     "prompt_number": 21
    },
    {
     "cell_type": "code",
     "collapsed": false,
     "input": [
      "%%time\n",
      "scaler = sklearn.preprocessing.StandardScaler().fit(df.values)"
     ],
     "language": "python",
     "metadata": {},
     "outputs": [
      {
       "output_type": "stream",
       "stream": "stdout",
       "text": [
        "CPU times: user 24.5 ms, sys: 11.5 ms, total: 36.1 ms\n",
        "Wall time: 35.6 ms\n"
       ]
      }
     ],
     "prompt_number": 15
    },
    {
     "cell_type": "code",
     "collapsed": false,
     "input": [
      "scaler.mean_ "
     ],
     "language": "python",
     "metadata": {},
     "outputs": [
      {
       "metadata": {},
       "output_type": "pyout",
       "prompt_number": 16,
       "text": [
        "array([  9.48898695e+02,   2.06136277e+02,  -7.44629886e+01,\n",
        "         1.89363118e+01,   1.44052928e+12])"
       ]
      }
     ],
     "prompt_number": 16
    },
    {
     "cell_type": "code",
     "collapsed": false,
     "input": [
      "%%time\n",
      "result = scaler.transform(df.values)"
     ],
     "language": "python",
     "metadata": {},
     "outputs": [
      {
       "output_type": "stream",
       "stream": "stdout",
       "text": [
        "CPU times: user 12.5 ms, sys: 3.1 ms, total: 15.6 ms\n",
        "Wall time: 15 ms\n"
       ]
      }
     ],
     "prompt_number": 18
    },
    {
     "cell_type": "code",
     "collapsed": false,
     "input": [
      "result = pd.DataFrame(result)"
     ],
     "language": "python",
     "metadata": {},
     "outputs": [],
     "prompt_number": 19
    },
    {
     "cell_type": "code",
     "collapsed": false,
     "input": [
      "result.columns = ['NormMidfrequency', 'NormBandwidth', 'NormScope', 'NormCarriernoise', 'NormFirsttime']"
     ],
     "language": "python",
     "metadata": {},
     "outputs": [],
     "prompt_number": 22
    },
    {
     "cell_type": "code",
     "collapsed": false,
     "input": [
      "for col in result.columns:\n",
      "    df[col] =result[col]"
     ],
     "language": "python",
     "metadata": {},
     "outputs": [],
     "prompt_number": 27
    },
    {
     "cell_type": "code",
     "collapsed": false,
     "input": [
      "df.head()"
     ],
     "language": "python",
     "metadata": {},
     "outputs": [
      {
       "html": [
        "<div style=\"max-height:1000px;max-width:1500px;overflow:auto;\">\n",
        "<table border=\"1\" class=\"dataframe\">\n",
        "  <thead>\n",
        "    <tr style=\"text-align: right;\">\n",
        "      <th></th>\n",
        "      <th>Midfrequency</th>\n",
        "      <th>Bandwidth</th>\n",
        "      <th>Scope</th>\n",
        "      <th>Carriernoise</th>\n",
        "      <th>Firsttime</th>\n",
        "      <th>NormMidfrequency</th>\n",
        "      <th>NormBandwidth</th>\n",
        "      <th>NormScope</th>\n",
        "      <th>NormCarriernoise</th>\n",
        "      <th>NormFirsttime</th>\n",
        "    </tr>\n",
        "  </thead>\n",
        "  <tbody>\n",
        "    <tr>\n",
        "      <th>0</th>\n",
        "      <td> 935.413</td>\n",
        "      <td> 212.362</td>\n",
        "      <td>-58</td>\n",
        "      <td> 36</td>\n",
        "      <td> 1440518935654</td>\n",
        "      <td>-2.712187</td>\n",
        "      <td> 0.016664</td>\n",
        "      <td> 3.547523</td>\n",
        "      <td> 3.060558</td>\n",
        "      <td>-2.586316</td>\n",
        "    </tr>\n",
        "    <tr>\n",
        "      <th>1</th>\n",
        "      <td> 938.401</td>\n",
        "      <td> 443.568</td>\n",
        "      <td>-65</td>\n",
        "      <td> 18</td>\n",
        "      <td> 1440518935654</td>\n",
        "      <td>-2.111253</td>\n",
        "      <td> 0.635526</td>\n",
        "      <td> 2.039130</td>\n",
        "      <td>-0.167938</td>\n",
        "      <td>-2.586316</td>\n",
        "    </tr>\n",
        "    <tr>\n",
        "      <th>2</th>\n",
        "      <td> 939.205</td>\n",
        "      <td> 200.765</td>\n",
        "      <td>-70</td>\n",
        "      <td> 17</td>\n",
        "      <td> 1440518935654</td>\n",
        "      <td>-1.949556</td>\n",
        "      <td>-0.014377</td>\n",
        "      <td> 0.961706</td>\n",
        "      <td>-0.347299</td>\n",
        "      <td>-2.586316</td>\n",
        "    </tr>\n",
        "    <tr>\n",
        "      <th>3</th>\n",
        "      <td> 945.498</td>\n",
        "      <td> 413.851</td>\n",
        "      <td>-62</td>\n",
        "      <td> 23</td>\n",
        "      <td> 1440518935654</td>\n",
        "      <td>-0.683934</td>\n",
        "      <td> 0.555983</td>\n",
        "      <td> 2.685584</td>\n",
        "      <td> 0.728867</td>\n",
        "      <td>-2.586316</td>\n",
        "    </tr>\n",
        "    <tr>\n",
        "      <th>4</th>\n",
        "      <td> 951.696</td>\n",
        "      <td> 344.997</td>\n",
        "      <td>-67</td>\n",
        "      <td> 16</td>\n",
        "      <td> 1440518935654</td>\n",
        "      <td> 0.562582</td>\n",
        "      <td> 0.371684</td>\n",
        "      <td> 1.608160</td>\n",
        "      <td>-0.526659</td>\n",
        "      <td>-2.586316</td>\n",
        "    </tr>\n",
        "  </tbody>\n",
        "</table>\n",
        "</div>"
       ],
       "metadata": {},
       "output_type": "pyout",
       "prompt_number": 29,
       "text": [
        "   Midfrequency  Bandwidth  Scope  Carriernoise      Firsttime  \\\n",
        "0       935.413    212.362    -58            36  1440518935654   \n",
        "1       938.401    443.568    -65            18  1440518935654   \n",
        "2       939.205    200.765    -70            17  1440518935654   \n",
        "3       945.498    413.851    -62            23  1440518935654   \n",
        "4       951.696    344.997    -67            16  1440518935654   \n",
        "\n",
        "   NormMidfrequency  NormBandwidth  NormScope  NormCarriernoise  NormFirsttime  \n",
        "0         -2.712187       0.016664   3.547523          3.060558      -2.586316  \n",
        "1         -2.111253       0.635526   2.039130         -0.167938      -2.586316  \n",
        "2         -1.949556      -0.014377   0.961706         -0.347299      -2.586316  \n",
        "3         -0.683934       0.555983   2.685584          0.728867      -2.586316  \n",
        "4          0.562582       0.371684   1.608160         -0.526659      -2.586316  "
       ]
      }
     ],
     "prompt_number": 29
    },
    {
     "cell_type": "code",
     "collapsed": false,
     "input": [
      "df.to_csv('../data/950M-formated.csv',index = False)"
     ],
     "language": "python",
     "metadata": {},
     "outputs": [
      {
       "metadata": {},
       "output_type": "pyout",
       "prompt_number": 32,
       "text": [
        "0.9999999999991932"
       ]
      }
     ],
     "prompt_number": 32
    },
    {
     "cell_type": "code",
     "collapsed": false,
     "input": [],
     "language": "python",
     "metadata": {},
     "outputs": []
    }
   ],
   "metadata": {}
  }
 ]
}