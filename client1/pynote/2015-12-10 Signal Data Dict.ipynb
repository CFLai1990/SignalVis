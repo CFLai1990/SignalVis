{
 "metadata": {
  "name": "",
  "signature": "sha256:bd73b828108399ca6facce65ac819ad2aee0cc1d3572176fb8f7a7f58562ef97"
 },
 "nbformat": 3,
 "nbformat_minor": 0,
 "worksheets": [
  {
   "cells": [
    {
     "cell_type": "code",
     "collapsed": false,
     "input": [
      "import pandas as pd\n",
      "import numpy as np\n",
      "import datetime\n",
      "import matplotlib.pyplot as plt\n",
      "import json\n",
      "%matplotlib inline"
     ],
     "language": "python",
     "metadata": {},
     "outputs": [],
     "prompt_number": 1
    },
    {
     "cell_type": "code",
     "collapsed": false,
     "input": [
      "%%time\n",
      "df = pd.read_csv('../data/950M-formated.csv')"
     ],
     "language": "python",
     "metadata": {},
     "outputs": [
      {
       "output_type": "stream",
       "stream": "stdout",
       "text": [
        "CPU times: user 455 ms, sys: 44.9 ms, total: 500 ms\n",
        "Wall time: 508 ms\n"
       ]
      }
     ],
     "prompt_number": 2
    },
    {
     "cell_type": "code",
     "collapsed": false,
     "input": [
      "df.head()"
     ],
     "language": "python",
     "metadata": {},
     "outputs": [
      {
       "html": [
        "<div style=\"max-height:1000px;max-width:1500px;overflow:auto;\">\n",
        "<table border=\"1\" class=\"dataframe\">\n",
        "  <thead>\n",
        "    <tr style=\"text-align: right;\">\n",
        "      <th></th>\n",
        "      <th>Midfrequency</th>\n",
        "      <th>Bandwidth</th>\n",
        "      <th>Scope</th>\n",
        "      <th>Carriernoise</th>\n",
        "      <th>Firsttime</th>\n",
        "      <th>NormMidfrequency</th>\n",
        "      <th>NormBandwidth</th>\n",
        "      <th>NormScope</th>\n",
        "      <th>NormCarriernoise</th>\n",
        "      <th>NormFirsttime</th>\n",
        "    </tr>\n",
        "  </thead>\n",
        "  <tbody>\n",
        "    <tr>\n",
        "      <th>0</th>\n",
        "      <td> 935.413</td>\n",
        "      <td> 212.362</td>\n",
        "      <td>-58</td>\n",
        "      <td> 36</td>\n",
        "      <td> 1440518935654</td>\n",
        "      <td>-2.712187</td>\n",
        "      <td> 0.016664</td>\n",
        "      <td> 3.547523</td>\n",
        "      <td> 3.060558</td>\n",
        "      <td>-2.586316</td>\n",
        "    </tr>\n",
        "    <tr>\n",
        "      <th>1</th>\n",
        "      <td> 938.401</td>\n",
        "      <td> 443.568</td>\n",
        "      <td>-65</td>\n",
        "      <td> 18</td>\n",
        "      <td> 1440518935654</td>\n",
        "      <td>-2.111253</td>\n",
        "      <td> 0.635526</td>\n",
        "      <td> 2.039130</td>\n",
        "      <td>-0.167938</td>\n",
        "      <td>-2.586316</td>\n",
        "    </tr>\n",
        "    <tr>\n",
        "      <th>2</th>\n",
        "      <td> 939.205</td>\n",
        "      <td> 200.765</td>\n",
        "      <td>-70</td>\n",
        "      <td> 17</td>\n",
        "      <td> 1440518935654</td>\n",
        "      <td>-1.949556</td>\n",
        "      <td>-0.014377</td>\n",
        "      <td> 0.961706</td>\n",
        "      <td>-0.347299</td>\n",
        "      <td>-2.586316</td>\n",
        "    </tr>\n",
        "    <tr>\n",
        "      <th>3</th>\n",
        "      <td> 945.498</td>\n",
        "      <td> 413.851</td>\n",
        "      <td>-62</td>\n",
        "      <td> 23</td>\n",
        "      <td> 1440518935654</td>\n",
        "      <td>-0.683934</td>\n",
        "      <td> 0.555983</td>\n",
        "      <td> 2.685584</td>\n",
        "      <td> 0.728867</td>\n",
        "      <td>-2.586316</td>\n",
        "    </tr>\n",
        "    <tr>\n",
        "      <th>4</th>\n",
        "      <td> 951.696</td>\n",
        "      <td> 344.997</td>\n",
        "      <td>-67</td>\n",
        "      <td> 16</td>\n",
        "      <td> 1440518935654</td>\n",
        "      <td> 0.562582</td>\n",
        "      <td> 0.371684</td>\n",
        "      <td> 1.608160</td>\n",
        "      <td>-0.526659</td>\n",
        "      <td>-2.586316</td>\n",
        "    </tr>\n",
        "  </tbody>\n",
        "</table>\n",
        "</div>"
       ],
       "metadata": {},
       "output_type": "pyout",
       "prompt_number": 3,
       "text": [
        "   Midfrequency  Bandwidth  Scope  Carriernoise      Firsttime  \\\n",
        "0       935.413    212.362    -58            36  1440518935654   \n",
        "1       938.401    443.568    -65            18  1440518935654   \n",
        "2       939.205    200.765    -70            17  1440518935654   \n",
        "3       945.498    413.851    -62            23  1440518935654   \n",
        "4       951.696    344.997    -67            16  1440518935654   \n",
        "\n",
        "   NormMidfrequency  NormBandwidth  NormScope  NormCarriernoise  NormFirsttime  \n",
        "0         -2.712187       0.016664   3.547523          3.060558      -2.586316  \n",
        "1         -2.111253       0.635526   2.039130         -0.167938      -2.586316  \n",
        "2         -1.949556      -0.014377   0.961706         -0.347299      -2.586316  \n",
        "3         -0.683934       0.555983   2.685584          0.728867      -2.586316  \n",
        "4          0.562582       0.371684   1.608160         -0.526659      -2.586316  "
       ]
      }
     ],
     "prompt_number": 3
    },
    {
     "cell_type": "code",
     "collapsed": false,
     "input": [
      "np.datetime64()"
     ],
     "language": "python",
     "metadata": {},
     "outputs": [
      {
       "metadata": {},
       "output_type": "pyout",
       "prompt_number": 4,
       "text": [
        "numpy.datetime64('NaT')"
       ]
      }
     ],
     "prompt_number": 4
    },
    {
     "cell_type": "code",
     "collapsed": false,
     "input": [
      "f = open('../data/preCompute.json','rb')\n",
      "preCompute = json.load(f)\n",
      "f.close()"
     ],
     "language": "python",
     "metadata": {},
     "outputs": [],
     "prompt_number": 124
    },
    {
     "cell_type": "code",
     "collapsed": false,
     "input": [
      "preCompute = json.loads(preCompute)"
     ],
     "language": "python",
     "metadata": {},
     "outputs": [],
     "prompt_number": 76
    },
    {
     "cell_type": "code",
     "collapsed": false,
     "input": [
      "np.min(df.Bandwidth)"
     ],
     "language": "python",
     "metadata": {},
     "outputs": [
      {
       "metadata": {},
       "output_type": "pyout",
       "prompt_number": 45,
       "text": [
        "50.009999999999998"
       ]
      }
     ],
     "prompt_number": 45
    },
    {
     "cell_type": "code",
     "collapsed": false,
     "input": [
      "np.max(df.Bandwidth)"
     ],
     "language": "python",
     "metadata": {},
     "outputs": [
      {
       "metadata": {},
       "output_type": "pyout",
       "prompt_number": 26,
       "text": [
        "4120.3950000000004"
       ]
      }
     ],
     "prompt_number": 26
    },
    {
     "cell_type": "code",
     "collapsed": false,
     "input": [
      "bandwidthDictArr = []\n",
      "bandwidthGroup = df.groupby('Bandwidth')\n",
      "for bandwidth, subDf in bandwidthGroup:\n",
      "    bdict = {}\n",
      "    bdict[\"bandwidth\"] = bandwidth\n",
      "    bdict['indexs'] = list(subDf.index.values)\n",
      "    bandwidthDictArr.append(bdict)"
     ],
     "language": "python",
     "metadata": {},
     "outputs": [],
     "prompt_number": 5
    },
    {
     "cell_type": "code",
     "collapsed": false,
     "input": [
      "CarriernoiseDictArr = []\n",
      "CarriernoiseGroup = df.groupby('Carriernoise')\n",
      "for Carriernoise, subDf in CarriernoiseGroup:\n",
      "    bdict = {}\n",
      "    bdict[\"carriernoise\"] = Carriernoise\n",
      "    bdict['indexs'] = list(subDf.index.values)\n",
      "    CarriernoiseDictArr.append(bdict)"
     ],
     "language": "python",
     "metadata": {},
     "outputs": [],
     "prompt_number": 104
    },
    {
     "cell_type": "code",
     "collapsed": false,
     "input": [
      "ScopeDictArr = []\n",
      "ScopeGroup = df.groupby('Scope')\n",
      "for Scope, subDf in ScopeGroup:\n",
      "    bdict = {}\n",
      "    bdict[\"scope\"] = Scope\n",
      "    bdict['indexs'] = list(subDf.index.values)\n",
      "    ScopeDictArr.append(bdict)"
     ],
     "language": "python",
     "metadata": {},
     "outputs": [],
     "prompt_number": 105
    },
    {
     "cell_type": "code",
     "collapsed": false,
     "input": [
      "MidfreDictArr  = []\n",
      "MidfreGroup = df.groupby('Midfrequency')\n",
      "for midfre, subDf in MidfreGroup:\n",
      "    bdict = {}\n",
      "    bdict[\"midfre\"] = midfre\n",
      "    bdict['indexs'] = list(subDf.index.values)\n",
      "    MidfreDictArr.append(bdict)"
     ],
     "language": "python",
     "metadata": {},
     "outputs": [],
     "prompt_number": 110
    },
    {
     "cell_type": "code",
     "collapsed": false,
     "input": [
      "FirsttimeDictArr  = []\n",
      "FirsttimeGroup = df.groupby('Firsttime')\n",
      "for firsttime, subDf in FirsttimeGroup:\n",
      "    bdict = {}\n",
      "    bdict[\"firsttime\"] = firsttime\n",
      "    bdict['indexs'] = list(subDf.index.values)\n",
      "    FirsttimeDictArr.append(bdict)"
     ],
     "language": "python",
     "metadata": {},
     "outputs": [],
     "prompt_number": 4
    },
    {
     "cell_type": "code",
     "collapsed": false,
     "input": [
      "len(FirsttimeDictArr)"
     ],
     "language": "python",
     "metadata": {},
     "outputs": [
      {
       "metadata": {},
       "output_type": "pyout",
       "prompt_number": 5,
       "text": [
        "44189"
       ]
      }
     ],
     "prompt_number": 5
    },
    {
     "cell_type": "code",
     "collapsed": false,
     "input": [
      "preCompute['bandwidthDictArr'] = bandwidthDictArr\n",
      "preCompute['carriernoiseDictArr'] = CarriernoiseDictArr\n",
      "preCompute['scopeDictArr'] = ScopeDictArr\n",
      "preCompute['firsttimeDictArr'] = FirsttimeDictArr\n",
      "preCompute['midfreDictArr'] = MidfreDictArr"
     ],
     "language": "python",
     "metadata": {},
     "outputs": [],
     "prompt_number": 119
    },
    {
     "cell_type": "code",
     "collapsed": false,
     "input": [
      "preCompute.pop('maxTime')"
     ],
     "language": "python",
     "metadata": {},
     "outputs": [
      {
       "metadata": {},
       "output_type": "pyout",
       "prompt_number": 123,
       "text": [
        "1440535680000"
       ]
      }
     ],
     "prompt_number": 123
    },
    {
     "cell_type": "code",
     "collapsed": false,
     "input": [
      "f = open('../data/preCompute.json','wb')\n",
      "json.dump(preCompute,f)\n",
      "f.close()"
     ],
     "language": "python",
     "metadata": {},
     "outputs": [],
     "prompt_number": 120
    },
    {
     "cell_type": "code",
     "collapsed": false,
     "input": [
      "preCompute.keys()"
     ],
     "language": "python",
     "metadata": {},
     "outputs": [
      {
       "metadata": {},
       "output_type": "pyout",
       "prompt_number": 125,
       "text": [
        "[u'carriernoiseDictArr',\n",
        " u'maxMidfre',\n",
        " u'minTime',\n",
        " u'scopeDictArr',\n",
        " u'minMidfre',\n",
        " u'aggCount',\n",
        " u'midfreDictArr',\n",
        " u'firsttimeDictArr',\n",
        " u'bandwidthDictArr',\n",
        " u'maxTime']"
       ]
      }
     ],
     "prompt_number": 125
    },
    {
     "cell_type": "code",
     "collapsed": false,
     "input": [
      "%%time\n",
      "bandwidthCount = df.Bandwidth.value_counts()\n",
      "bandwidthCount = bandwidthCount.sort_index()"
     ],
     "language": "python",
     "metadata": {},
     "outputs": [
      {
       "output_type": "stream",
       "stream": "stdout",
       "text": [
        "CPU times: user 34.2 ms, sys: 2.2 ms, total: 36.4 ms\n",
        "Wall time: 36 ms\n"
       ]
      }
     ],
     "prompt_number": 7
    },
    {
     "cell_type": "code",
     "collapsed": false,
     "input": [
      "fig = plt.figure(figsize=(10,6))\n",
      "plt.xlabel(\"Bandwidth\")\n",
      "plt.title(\"Bandwidth Distribution\")\n",
      "plt.ylabel(\"Signal Count\")\n",
      "plt.plot(bandwidthCount.index,bandwidthCount.values)\n",
      "plt.show()"
     ],
     "language": "python",
     "metadata": {},
     "outputs": [
      {
       "metadata": {},
       "output_type": "display_data",
       "png": "[encoded data removed]",
       "text": [
        "<matplotlib.figure.Figure at 0x113ddb090>"
       ]
      }
     ],
     "prompt_number": 10
    },
    {
     "cell_type": "code",
     "collapsed": false,
     "input": [
      "%%time\n",
      "CarriernoiseCount = df.Carriernoise.value_counts()\n",
      "CarriernoiseCount = CarriernoiseCount.sort_index()"
     ],
     "language": "python",
     "metadata": {},
     "outputs": [
      {
       "output_type": "stream",
       "stream": "stdout",
       "text": [
        "CPU times: user 4.11 ms, sys: 381 \u00b5s, total: 4.49 ms\n",
        "Wall time: 4.38 ms\n"
       ]
      }
     ],
     "prompt_number": 15
    },
    {
     "cell_type": "code",
     "collapsed": false,
     "input": [
      "fig = plt.figure(figsize=(10,6))\n",
      "plt.xlabel(\"Carriernoise\")\n",
      "plt.title(\"Carriernoise Distribution\")\n",
      "plt.ylabel(\"Signal Count\")\n",
      "plt.plot(CarriernoiseCount.index,CarriernoiseCount.values)\n",
      "plt.show()"
     ],
     "language": "python",
     "metadata": {},
     "outputs": [
      {
       "metadata": {},
       "output_type": "display_data",
       "png": "[encoded data removed]",
       "text": [
        "<matplotlib.figure.Figure at 0x11079d650>"
       ]
      }
     ],
     "prompt_number": 16
    },
    {
     "cell_type": "code",
     "collapsed": false,
     "input": [
      "%%time\n",
      "ScopeCount = df.Scope.value_counts()\n",
      "ScopeCount = ScopeCount.sort_index()"
     ],
     "language": "python",
     "metadata": {},
     "outputs": [
      {
       "output_type": "stream",
       "stream": "stdout",
       "text": [
        "CPU times: user 4.07 ms, sys: 495 \u00b5s, total: 4.56 ms\n",
        "Wall time: 4.45 ms\n"
       ]
      }
     ],
     "prompt_number": 11
    },
    {
     "cell_type": "code",
     "collapsed": false,
     "input": [
      "fig = plt.figure(figsize=(10,6))\n",
      "plt.xlabel(\"Scope\")\n",
      "plt.title(\"Scope Distribution\")\n",
      "plt.ylabel(\"Signal Count\")\n",
      "plt.plot(ScopeCount.index,ScopeCount.values)\n",
      "plt.show()"
     ],
     "language": "python",
     "metadata": {},
     "outputs": [
      {
       "metadata": {},
       "output_type": "display_data",
       "png": "[encoded data removed]",
       "text": [
        "<matplotlib.figure.Figure at 0x110942fd0>"
       ]
      }
     ],
     "prompt_number": 13
    },
    {
     "cell_type": "code",
     "collapsed": false,
     "input": [
      "%%time\n",
      "df.Firsttime = df\n",
      "firsttimeCount = df.Firsttime.value_counts()\n",
      "firsttimeCount = firsttimeCount.sort_index()"
     ],
     "language": "python",
     "metadata": {},
     "outputs": [
      {
       "output_type": "stream",
       "stream": "stdout",
       "text": [
        "CPU times: user 21.1 ms, sys: 2.55 ms, total: 23.7 ms\n",
        "Wall time: 23.5 ms\n"
       ]
      }
     ],
     "prompt_number": 6
    },
    {
     "cell_type": "code",
     "collapsed": false,
     "input": [
      "fig = plt.figure(figsize=(10,8))\n",
      "plt.bar(firsttimeCount.index,firsttimeCount.values)"
     ],
     "language": "python",
     "metadata": {},
     "outputs": [
      {
       "metadata": {},
       "output_type": "pyout",
       "prompt_number": 11,
       "text": [
        "<Container object of 44189 artists>"
       ]
      },
      {
       "metadata": {},
       "output_type": "display_data",
       "png": "[encoded data removed]",
       "text": [
        "<matplotlib.figure.Figure at 0x1169b8bd0>"
       ]
      }
     ],
     "prompt_number": 11
    },
    {
     "cell_type": "code",
     "collapsed": false,
     "input": [
      "%%time\n",
      "mdifreCount = df.Midfrequency.value_counts()\n",
      "mdifreCount = mdifreCount.sort_index()"
     ],
     "language": "python",
     "metadata": {},
     "outputs": [
      {
       "output_type": "stream",
       "stream": "stdout",
       "text": [
        "CPU times: user 66.6 ms, sys: 3.68 ms, total: 70.3 ms\n",
        "Wall time: 69.7 ms\n"
       ]
      }
     ],
     "prompt_number": 3
    },
    {
     "cell_type": "code",
     "collapsed": false,
     "input": [
      "fig = plt.figure(figsize=(10,6))\n",
      "plt.xlabel(\"MidFrequency\")\n",
      "plt.title(\"MidFrequency Distribution\")\n",
      "plt.ylabel(\"Signal Count\")\n",
      "plt.plot(mdifreCount.index,mdifreCount.values)\n",
      "plt.show()"
     ],
     "language": "python",
     "metadata": {},
     "outputs": [
      {
       "metadata": {},
       "output_type": "display_data",
       "png": "[encoded data removed]",
       "text": [
        "<matplotlib.figure.Figure at 0x11094e790>"
       ]
      }
     ],
     "prompt_number": 6
    },
    {
     "cell_type": "code",
     "collapsed": false,
     "input": [],
     "language": "python",
     "metadata": {},
     "outputs": []
    }
   ],
   "metadata": {}
  }
 ]
}