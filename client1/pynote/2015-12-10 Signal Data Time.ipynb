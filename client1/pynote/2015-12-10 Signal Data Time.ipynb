{
 "metadata": {
  "name": "",
  "signature": "sha256:b91b1de7bce777b6a31598109b75c3965b5e3478ca3ac4c8651c9732fb1593c0"
 },
 "nbformat": 3,
 "nbformat_minor": 0,
 "worksheets": [
  {
   "cells": [
    {
     "cell_type": "code",
     "collapsed": false,
     "input": [
      "import pandas as pd\n",
      "import numpy as np"
     ],
     "language": "python",
     "metadata": {},
     "outputs": [],
     "prompt_number": 1
    },
    {
     "cell_type": "code",
     "collapsed": false,
     "input": [
      "df = pd.read_csv(\"../data/950MHz.csv\",parse_dates=['Firsttime'])"
     ],
     "language": "python",
     "metadata": {},
     "outputs": [],
     "prompt_number": 2
    },
    {
     "cell_type": "code",
     "collapsed": false,
     "input": [
      "df = df[['Midfrequency(MHz)','Bandwidth(dB)','Scope(dBm)','Carriernoise(dB)','Firsttime']]"
     ],
     "language": "python",
     "metadata": {},
     "outputs": [],
     "prompt_number": 4
    },
    {
     "cell_type": "code",
     "collapsed": false,
     "input": [
      "t = df.Firsttime.ix[0]"
     ],
     "language": "python",
     "metadata": {},
     "outputs": [],
     "prompt_number": 7
    },
    {
     "cell_type": "code",
     "collapsed": false,
     "input": [
      "df['date'] = df.Firsttime.apply(lambda x: x.split()[0])\n",
      "df['time'] = df.Firsttime.apply(lambda x: x.split()[1])\n",
      "df['ms'] = df.Firsttime.apply(lambda x: x.split()[2])"
     ],
     "language": "python",
     "metadata": {},
     "outputs": [
      {
       "output_type": "stream",
       "stream": "stderr",
       "text": [
        "-c:2: SettingWithCopyWarning: \n",
        "A value is trying to be set on a copy of a slice from a DataFrame.\n",
        "Try using .loc[row_indexer,col_indexer] = value instead\n",
        "\n",
        "See the the caveats in the documentation: http://pandas.pydata.org/pandas-docs/stable/indexing.html#indexing-view-versus-copy\n",
        "-c:3: SettingWithCopyWarning: \n",
        "A value is trying to be set on a copy of a slice from a DataFrame.\n",
        "Try using .loc[row_indexer,col_indexer] = value instead\n",
        "\n",
        "See the the caveats in the documentation: http://pandas.pydata.org/pandas-docs/stable/indexing.html#indexing-view-versus-copy\n"
       ]
      }
     ],
     "prompt_number": 19
    },
    {
     "cell_type": "code",
     "collapsed": false,
     "input": [
      "df['datetime'] = df['date'] + \" \" + df['time']\n",
      "df['datetime'] = pd.to_datetime(df['datetime'])\n",
      "df['datetime'] = df.datetime.astype(int)\n",
      "df['datetime'] = (df.datetime/10**6).astype(int)"
     ],
     "language": "python",
     "metadata": {},
     "outputs": [
      {
       "output_type": "stream",
       "stream": "stderr",
       "text": [
        "-c:4: SettingWithCopyWarning: \n",
        "A value is trying to be set on a copy of a slice from a DataFrame.\n",
        "Try using .loc[row_indexer,col_indexer] = value instead\n",
        "\n",
        "See the the caveats in the documentation: http://pandas.pydata.org/pandas-docs/stable/indexing.html#indexing-view-versus-copy\n"
       ]
      }
     ],
     "prompt_number": 36
    },
    {
     "cell_type": "code",
     "collapsed": false,
     "input": [
      "df.head()"
     ],
     "language": "python",
     "metadata": {},
     "outputs": [
      {
       "html": [
        "<div style=\"max-height:1000px;max-width:1500px;overflow:auto;\">\n",
        "<table border=\"1\" class=\"dataframe\">\n",
        "  <thead>\n",
        "    <tr style=\"text-align: right;\">\n",
        "      <th></th>\n",
        "      <th>Midfrequency(MHz)</th>\n",
        "      <th>Bandwidth(dB)</th>\n",
        "      <th>Scope(dBm)</th>\n",
        "      <th>Carriernoise(dB)</th>\n",
        "      <th>Firsttime</th>\n",
        "      <th>date</th>\n",
        "      <th>time</th>\n",
        "      <th>ms</th>\n",
        "      <th>datetime</th>\n",
        "    </tr>\n",
        "  </thead>\n",
        "  <tbody>\n",
        "    <tr>\n",
        "      <th>0</th>\n",
        "      <td> 935.413</td>\n",
        "      <td> 212.362</td>\n",
        "      <td>-58</td>\n",
        "      <td> 36</td>\n",
        "      <td> 2015-08-25 16:08:55 654</td>\n",
        "      <td> 2015-08-25</td>\n",
        "      <td> 16:08:55</td>\n",
        "      <td> 654</td>\n",
        "      <td> 1440518935000</td>\n",
        "    </tr>\n",
        "    <tr>\n",
        "      <th>1</th>\n",
        "      <td> 938.401</td>\n",
        "      <td> 443.568</td>\n",
        "      <td>-65</td>\n",
        "      <td> 18</td>\n",
        "      <td> 2015-08-25 16:08:55 654</td>\n",
        "      <td> 2015-08-25</td>\n",
        "      <td> 16:08:55</td>\n",
        "      <td> 654</td>\n",
        "      <td> 1440518935000</td>\n",
        "    </tr>\n",
        "    <tr>\n",
        "      <th>2</th>\n",
        "      <td> 939.205</td>\n",
        "      <td> 200.765</td>\n",
        "      <td>-70</td>\n",
        "      <td> 17</td>\n",
        "      <td> 2015-08-25 16:08:55 654</td>\n",
        "      <td> 2015-08-25</td>\n",
        "      <td> 16:08:55</td>\n",
        "      <td> 654</td>\n",
        "      <td> 1440518935000</td>\n",
        "    </tr>\n",
        "    <tr>\n",
        "      <th>3</th>\n",
        "      <td> 945.498</td>\n",
        "      <td> 413.851</td>\n",
        "      <td>-62</td>\n",
        "      <td> 23</td>\n",
        "      <td> 2015-08-25 16:08:55 654</td>\n",
        "      <td> 2015-08-25</td>\n",
        "      <td> 16:08:55</td>\n",
        "      <td> 654</td>\n",
        "      <td> 1440518935000</td>\n",
        "    </tr>\n",
        "    <tr>\n",
        "      <th>4</th>\n",
        "      <td> 951.696</td>\n",
        "      <td> 344.997</td>\n",
        "      <td>-67</td>\n",
        "      <td> 16</td>\n",
        "      <td> 2015-08-25 16:08:55 654</td>\n",
        "      <td> 2015-08-25</td>\n",
        "      <td> 16:08:55</td>\n",
        "      <td> 654</td>\n",
        "      <td> 1440518935000</td>\n",
        "    </tr>\n",
        "  </tbody>\n",
        "</table>\n",
        "</div>"
       ],
       "metadata": {},
       "output_type": "pyout",
       "prompt_number": 37,
       "text": [
        "   Midfrequency(MHz)  Bandwidth(dB)  Scope(dBm)  Carriernoise(dB)  \\\n",
        "0            935.413        212.362         -58                36   \n",
        "1            938.401        443.568         -65                18   \n",
        "2            939.205        200.765         -70                17   \n",
        "3            945.498        413.851         -62                23   \n",
        "4            951.696        344.997         -67                16   \n",
        "\n",
        "                 Firsttime        date      time   ms       datetime  \n",
        "0  2015-08-25 16:08:55 654  2015-08-25  16:08:55  654  1440518935000  \n",
        "1  2015-08-25 16:08:55 654  2015-08-25  16:08:55  654  1440518935000  \n",
        "2  2015-08-25 16:08:55 654  2015-08-25  16:08:55  654  1440518935000  \n",
        "3  2015-08-25 16:08:55 654  2015-08-25  16:08:55  654  1440518935000  \n",
        "4  2015-08-25 16:08:55 654  2015-08-25  16:08:55  654  1440518935000  "
       ]
      }
     ],
     "prompt_number": 37
    },
    {
     "cell_type": "code",
     "collapsed": false,
     "input": [
      "df['ms'] = df['ms'].astype(int)\n",
      "df['Firsttime'] = df['ms'] + df['datetime']"
     ],
     "language": "python",
     "metadata": {},
     "outputs": [],
     "prompt_number": 42
    },
    {
     "cell_type": "code",
     "collapsed": false,
     "input": [
      "df.head()"
     ],
     "language": "python",
     "metadata": {},
     "outputs": [
      {
       "html": [
        "<div style=\"max-height:1000px;max-width:1500px;overflow:auto;\">\n",
        "<table border=\"1\" class=\"dataframe\">\n",
        "  <thead>\n",
        "    <tr style=\"text-align: right;\">\n",
        "      <th></th>\n",
        "      <th>Midfrequency(MHz)</th>\n",
        "      <th>Bandwidth(dB)</th>\n",
        "      <th>Scope(dBm)</th>\n",
        "      <th>Carriernoise(dB)</th>\n",
        "      <th>Firsttime</th>\n",
        "      <th>date</th>\n",
        "      <th>time</th>\n",
        "      <th>ms</th>\n",
        "      <th>datetime</th>\n",
        "      <th>Fristtime</th>\n",
        "    </tr>\n",
        "  </thead>\n",
        "  <tbody>\n",
        "    <tr>\n",
        "      <th>0</th>\n",
        "      <td> 935.413</td>\n",
        "      <td> 212.362</td>\n",
        "      <td>-58</td>\n",
        "      <td> 36</td>\n",
        "      <td> 1440518935654</td>\n",
        "      <td> 2015-08-25</td>\n",
        "      <td> 16:08:55</td>\n",
        "      <td> 654</td>\n",
        "      <td> 1440518935000</td>\n",
        "      <td> 1440518935654</td>\n",
        "    </tr>\n",
        "    <tr>\n",
        "      <th>1</th>\n",
        "      <td> 938.401</td>\n",
        "      <td> 443.568</td>\n",
        "      <td>-65</td>\n",
        "      <td> 18</td>\n",
        "      <td> 1440518935654</td>\n",
        "      <td> 2015-08-25</td>\n",
        "      <td> 16:08:55</td>\n",
        "      <td> 654</td>\n",
        "      <td> 1440518935000</td>\n",
        "      <td> 1440518935654</td>\n",
        "    </tr>\n",
        "    <tr>\n",
        "      <th>2</th>\n",
        "      <td> 939.205</td>\n",
        "      <td> 200.765</td>\n",
        "      <td>-70</td>\n",
        "      <td> 17</td>\n",
        "      <td> 1440518935654</td>\n",
        "      <td> 2015-08-25</td>\n",
        "      <td> 16:08:55</td>\n",
        "      <td> 654</td>\n",
        "      <td> 1440518935000</td>\n",
        "      <td> 1440518935654</td>\n",
        "    </tr>\n",
        "    <tr>\n",
        "      <th>3</th>\n",
        "      <td> 945.498</td>\n",
        "      <td> 413.851</td>\n",
        "      <td>-62</td>\n",
        "      <td> 23</td>\n",
        "      <td> 1440518935654</td>\n",
        "      <td> 2015-08-25</td>\n",
        "      <td> 16:08:55</td>\n",
        "      <td> 654</td>\n",
        "      <td> 1440518935000</td>\n",
        "      <td> 1440518935654</td>\n",
        "    </tr>\n",
        "    <tr>\n",
        "      <th>4</th>\n",
        "      <td> 951.696</td>\n",
        "      <td> 344.997</td>\n",
        "      <td>-67</td>\n",
        "      <td> 16</td>\n",
        "      <td> 1440518935654</td>\n",
        "      <td> 2015-08-25</td>\n",
        "      <td> 16:08:55</td>\n",
        "      <td> 654</td>\n",
        "      <td> 1440518935000</td>\n",
        "      <td> 1440518935654</td>\n",
        "    </tr>\n",
        "  </tbody>\n",
        "</table>\n",
        "</div>"
       ],
       "metadata": {},
       "output_type": "pyout",
       "prompt_number": 43,
       "text": [
        "   Midfrequency(MHz)  Bandwidth(dB)  Scope(dBm)  Carriernoise(dB)  \\\n",
        "0            935.413        212.362         -58                36   \n",
        "1            938.401        443.568         -65                18   \n",
        "2            939.205        200.765         -70                17   \n",
        "3            945.498        413.851         -62                23   \n",
        "4            951.696        344.997         -67                16   \n",
        "\n",
        "       Firsttime        date      time   ms       datetime      Fristtime  \n",
        "0  1440518935654  2015-08-25  16:08:55  654  1440518935000  1440518935654  \n",
        "1  1440518935654  2015-08-25  16:08:55  654  1440518935000  1440518935654  \n",
        "2  1440518935654  2015-08-25  16:08:55  654  1440518935000  1440518935654  \n",
        "3  1440518935654  2015-08-25  16:08:55  654  1440518935000  1440518935654  \n",
        "4  1440518935654  2015-08-25  16:08:55  654  1440518935000  1440518935654  "
       ]
      }
     ],
     "prompt_number": 43
    },
    {
     "cell_type": "code",
     "collapsed": false,
     "input": [
      "result = df[['Midfrequency(MHz)','Bandwidth(dB)','Scope(dBm)','Carriernoise(dB)','Firsttime']]"
     ],
     "language": "python",
     "metadata": {},
     "outputs": [],
     "prompt_number": 44
    },
    {
     "cell_type": "code",
     "collapsed": false,
     "input": [
      "result.to_csv('../data/950M-formated.csv',index = False)"
     ],
     "language": "python",
     "metadata": {},
     "outputs": [],
     "prompt_number": 45
    },
    {
     "cell_type": "code",
     "collapsed": false,
     "input": [],
     "language": "python",
     "metadata": {},
     "outputs": []
    }
   ],
   "metadata": {}
  }
 ]
}